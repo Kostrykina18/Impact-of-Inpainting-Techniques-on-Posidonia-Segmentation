{
 "cells": [
  {
   "cell_type": "code",
   "execution_count": 1,
   "metadata": {},
   "outputs": [
    {
     "name": "stdout",
     "output_type": "stream",
     "text": [
      "Ultralytics YOLOv8.2.27 🚀 Python-3.8.5 torch-2.2.2 CPU (Apple M1)\n",
      "Setup complete ✅ (8 CPUs, 16.0 GB RAM, 401.7/460.4 GB disk)\n"
     ]
    }
   ],
   "source": [
    "%pip install ultralytics\n",
    "import ultralytics\n",
    "ultralytics.checks()\n",
    "\n",
    "from ultralytics import YOLO\n",
    "\n",
    "from PIL import Image, ImageDraw"
   ]
  },
  {
   "cell_type": "markdown",
   "metadata": {},
   "source": [
    "#### Original YoloV8 model"
   ]
  },
  {
   "cell_type": "code",
   "execution_count": 41,
   "metadata": {
    "scrolled": true
   },
   "outputs": [],
   "source": [
    "model_original = YOLO('yolov8n.pt')  # load a pretrained YOLOv8n detection model"
   ]
  },
  {
   "cell_type": "markdown",
   "metadata": {},
   "source": [
    "#### Pre-trained on boat data YoloV8 model"
   ]
  },
  {
   "cell_type": "code",
   "execution_count": 61,
   "metadata": {},
   "outputs": [],
   "source": [
    "model = YOLO(\"weights/best.pt\")"
   ]
  },
  {
   "cell_type": "markdown",
   "metadata": {},
   "source": [
    "#### Path to the image"
   ]
  },
  {
   "cell_type": "code",
   "execution_count": 111,
   "metadata": {},
   "outputs": [],
   "source": [
    "image_path = \"googleEarth/lerins2015-06-17.png\""
   ]
  },
  {
   "cell_type": "code",
   "execution_count": 112,
   "metadata": {},
   "outputs": [],
   "source": [
    "save_image_path = image_path.split(\"/\")[1].split(\".\")[0]"
   ]
  },
  {
   "cell_type": "markdown",
   "metadata": {},
   "source": [
    "### Square crop and resize the image"
   ]
  },
  {
   "cell_type": "code",
   "execution_count": 114,
   "metadata": {},
   "outputs": [],
   "source": [
    "image = Image.open(image_path)\n",
    "\n",
    "width, height = image.size\n",
    "\n",
    "min_side = min(width, height)\n",
    "left = (width - min_side) / 2\n",
    "top = (height - min_side) / 2\n",
    "right = (width + min_side) / 2\n",
    "bottom = (height + min_side) / 2\n",
    "image_cropped = image.crop((left, top, right, bottom))\n",
    "\n",
    "image_resized = image_cropped.resize((512, 512))\n",
    "\n",
    "image_resized.save(f\"cropped_image_{save_image_path}.png\")"
   ]
  },
  {
   "cell_type": "markdown",
   "metadata": {},
   "source": [
    "### Detect boats"
   ]
  },
  {
   "cell_type": "code",
   "execution_count": 115,
   "metadata": {},
   "outputs": [
    {
     "name": "stdout",
     "output_type": "stream",
     "text": [
      "\n",
      "0: 1504x1504 38 MBs, 25 SBs, 2611.7ms\n",
      "Speed: 37.3ms preprocess, 2611.7ms inference, 2.4ms postprocess per image at shape (1, 3, 1504, 1504)\n"
     ]
    }
   ],
   "source": [
    "pred = model(image_resized)"
   ]
  },
  {
   "cell_type": "code",
   "execution_count": 116,
   "metadata": {},
   "outputs": [],
   "source": [
    "pred[0].show()"
   ]
  },
  {
   "cell_type": "code",
   "execution_count": 117,
   "metadata": {},
   "outputs": [
    {
     "data": {
      "text/plain": [
       "'results_cropped_lerins2015-06-17.jpg'"
      ]
     },
     "execution_count": 117,
     "metadata": {},
     "output_type": "execute_result"
    }
   ],
   "source": [
    "pred[0].save(filename=f\"results_cropped_{save_image_path}.jpg\")"
   ]
  },
  {
   "cell_type": "code",
   "execution_count": 46,
   "metadata": {},
   "outputs": [
    {
     "data": {
      "text/plain": [
       "tensor([[1427.0275, 1025.2297, 1484.4053, 1106.8408],\n",
       "        [ 143.2024, 1153.6144,  216.0581, 1254.2140],\n",
       "        [1626.2706, 1001.4590, 1684.6981, 1075.0027],\n",
       "        [1742.6804, 1026.2489, 1846.2625, 1131.8687]])"
      ]
     },
     "execution_count": 46,
     "metadata": {},
     "output_type": "execute_result"
    }
   ],
   "source": [
    "pred[0].boxes.xyxy"
   ]
  },
  {
   "cell_type": "markdown",
   "metadata": {},
   "source": [
    "## Create mask matrix"
   ]
  },
  {
   "cell_type": "code",
   "execution_count": 118,
   "metadata": {},
   "outputs": [],
   "source": [
    "bboxes = pred[0].boxes.xyxy.cpu().numpy()  \n",
    "\n",
    "image = image_resized\n",
    "width, height = image.size\n",
    "\n",
    "mask = Image.new('RGB', (width, height), color='black')\n",
    "draw = ImageDraw.Draw(mask)\n",
    "\n",
    "for box in bboxes:\n",
    "    x1, y1, x2, y2 = box\n",
    "    draw.rectangle([x1, y1, x2, y2], fill='white')\n",
    "\n",
    "mask.save(f\"mask_image_{save_image_path}.png\")\n",
    "mask.show()"
   ]
  },
  {
   "cell_type": "markdown",
   "metadata": {},
   "source": [
    "### Add margin to the bounding box"
   ]
  },
  {
   "cell_type": "code",
   "execution_count": 53,
   "metadata": {},
   "outputs": [],
   "source": [
    "bboxes = pred[0].boxes.xyxy.cpu().numpy()  \n",
    "\n",
    "image = Image.open(image_path)\n",
    "width, height = image.size\n",
    "\n",
    "mask = Image.new('RGB', (width, height), color='black')\n",
    "draw = ImageDraw.Draw(mask)\n",
    "\n",
    "margin = 20\n",
    "\n",
    "for box in bboxes:\n",
    "    x1, y1, x2, y2 = box\n",
    "    x1 = max(0, x1 - margin)\n",
    "    y1 = max(0, y1 - margin)\n",
    "    x2 = min(width, x2 + margin)\n",
    "    y2 = min(height, y2 + margin)\n",
    "    draw.rectangle([x1, y1, x2, y2], fill='white')\n",
    "    \n",
    "mask.save(f\"margin_mask_image_{image_path}.png\")\n",
    "mask.show()"
   ]
  }
 ],
 "metadata": {
  "kernelspec": {
   "display_name": "Python 3",
   "language": "python",
   "name": "python3"
  },
  "language_info": {
   "codemirror_mode": {
    "name": "ipython",
    "version": 3
   },
   "file_extension": ".py",
   "mimetype": "text/x-python",
   "name": "python",
   "nbconvert_exporter": "python",
   "pygments_lexer": "ipython3",
   "version": "3.8.5"
  }
 },
 "nbformat": 4,
 "nbformat_minor": 4
}
